{
  "nbformat": 4,
  "nbformat_minor": 0,
  "metadata": {
    "colab": {
      "name": "test0.ipynb",
      "provenance": [],
      "authorship_tag": "ABX9TyPYoPdpTmxlpb8uZld2MO4x",
      "include_colab_link": true
    },
    "kernelspec": {
      "name": "python3",
      "display_name": "Python 3"
    },
    "language_info": {
      "name": "python"
    }
  },
  "cells": [
    {
      "cell_type": "markdown",
      "metadata": {
        "id": "view-in-github",
        "colab_type": "text"
      },
      "source": [
        "<a href=\"https://colab.research.google.com/github/pyc970905/pythonBigData/blob/main/test0.ipynb\" target=\"_parent\"><img src=\"https://colab.research.google.com/assets/colab-badge.svg\" alt=\"Open In Colab\"/></a>"
      ]
    },
    {
      "cell_type": "code",
      "execution_count": 38,
      "metadata": {
        "id": "EVgWCqyy_ku0"
      },
      "outputs": [],
      "source": [
        "import urllib.request"
      ]
    },
    {
      "cell_type": "code",
      "source": [
        "site_url = 'https://openapi.naver.com/v1/search/movie.xml'"
      ],
      "metadata": {
        "id": "jgpaWi9R_ytP"
      },
      "execution_count": 45,
      "outputs": []
    },
    {
      "cell_type": "code",
      "source": [
        "gen_num = input(\"\"\"젠레 번호 :\n",
        "1: 드라마 2: 판타지\n",
        "3: 서부 4: 공포\n",
        "5: 로맨스 6: 모험\n",
        "7: 스릴러 8: 느와르\n",
        "9: 컬트 10: 다큐멘터리\n",
        "11: 코미디 12: 가족\n",
        "13: 미스터리 14: 전쟁\n",
        "15: 애니메이션 16: 범죄\n",
        "17: 뮤지컬 18: SF\n",
        "19: 액션20: 무협\n",
        "21: 에로 22: 서스펜스\n",
        "23: 서사 24: 블랙코미디\n",
        "25: 실험 26: 영화카툰\n",
        "27: 영화음악 28: 영화패러디포스터\n",
        "\"\"\")\n",
        "gen_param = \"genre=\"+gen_num\n"
      ],
      "metadata": {
        "colab": {
          "base_uri": "https://localhost:8080/"
        },
        "id": "yU_CVpIN_9sT",
        "outputId": "fa63f7f5-d696-42e8-8516-5eeb081f4df1"
      },
      "execution_count": 95,
      "outputs": [
        {
          "name": "stdout",
          "output_type": "stream",
          "text": [
            "젠레 번호 :\n",
            "1: 드라마 2: 판타지\n",
            "3: 서부 4: 공포\n",
            "5: 로맨스 6: 모험\n",
            "7: 스릴러 8: 느와르\n",
            "9: 컬트 10: 다큐멘터리\n",
            "11: 코미디 12: 가족\n",
            "13: 미스터리 14: 전쟁\n",
            "15: 애니메이션 16: 범죄\n",
            "17: 뮤지컬 18: SF\n",
            "19: 액션20: 무협\n",
            "21: 에로 22: 서스펜스\n",
            "23: 서사 24: 블랙코미디\n",
            "25: 실험 26: 영화카툰\n",
            "27: 영화음악 28: 영화패러디포스터\n",
            "1\n"
          ]
        }
      ]
    },
    {
      "cell_type": "code",
      "source": [
        "disp_num = int(input('1~100 :'))\n",
        "disp_param = \"display=%d\"%disp_num\n",
        "\n",
        "print(disp_param)"
      ],
      "metadata": {
        "colab": {
          "base_uri": "https://localhost:8080/"
        },
        "id": "nyNc_2tuApYr",
        "outputId": "b54bd9b8-9b2e-4422-da30-318172c3fbee"
      },
      "execution_count": 89,
      "outputs": [
        {
          "output_type": "stream",
          "name": "stdout",
          "text": [
            "1~100 :100\n",
            "display=100\n"
          ]
        }
      ]
    },
    {
      "cell_type": "code",
      "source": [
        "cout_sel = input(\"\"\"골라라 까우링쓰따\n",
        "한국 (KR), 일본 (JP), 미국 (US), 홍콩 (HK),\n",
        "영국 (GB), 프랑스 (FR), 기타 (ETC)\n",
        "\"\"\")\n",
        "cout_param = \"country=\"+cout_sel\n",
        "print(cout_param)"
      ],
      "metadata": {
        "colab": {
          "base_uri": "https://localhost:8080/"
        },
        "id": "uTirkjW2Bh1P",
        "outputId": "1b922d7f-0530-4b04-e608-e857b93f5aff"
      },
      "execution_count": 90,
      "outputs": [
        {
          "output_type": "stream",
          "name": "stdout",
          "text": [
            "골라라 까우링쓰따\n",
            "한국 (KR), 일본 (JP), 미국 (US), 홍콩 (HK),\n",
            "영국 (GB), 프랑스 (FR), 기타 (ETC)\n",
            "US\n",
            "country=US\n"
          ]
        }
      ]
    },
    {
      "cell_type": "code",
      "source": [
        "client_id = 'Gq8NWth7F15DPV7JX3r9'\n",
        "client_secret= '6RwyU1Irs4'\n",
        "query = input(\"검색어:\")\n",
        "\n",
        "q_param = \"query=\"+urllib.parse.quote(query)\n",
        "print(q_param)\n",
        "cid = 'X-Naver-Client-Id'\n",
        "csec = 'X-Naver-Client-Secret'\n",
        "query_str = site_url+'?'+'&'+gen_param+'&'+disp_param+'&'+cout_param+'&'+q_param\n",
        "\n",
        "request = urllib.request.Request(query_str)\n",
        "request.add_header(cid,client_id)\n",
        "request.add_header(csec,client_secret)\n",
        "\n"
      ],
      "metadata": {
        "colab": {
          "base_uri": "https://localhost:8080/"
        },
        "id": "wyIbXPPFCHz6",
        "outputId": "154a3404-6c1e-46e7-c547-ff81938530ae"
      },
      "execution_count": 93,
      "outputs": [
        {
          "output_type": "stream",
          "name": "stdout",
          "text": [
            "검색어:그림자\n",
            "query=%EA%B7%B8%EB%A6%BC%EC%9E%90\n"
          ]
        }
      ]
    },
    {
      "cell_type": "code",
      "source": [
        "from bs4 import BeautifulSoup \n",
        "response = urllib.request.urlopen(request)\n",
        "\n",
        "data = response.read().decode('utf-8')\n",
        "\n",
        "hdoc = BeautifulSoup(data,'html.parser')\n",
        "\n",
        "\n",
        "items = hdoc.find_all('item')\n",
        "\n",
        "for item in items :\n",
        "  print('============================')\n",
        "  print('제목',item.find('title').get_text())\n",
        "  print('배우',item.find('actor').get_text())\n"
      ],
      "metadata": {
        "id": "qaujpwA9GQdO"
      },
      "execution_count": 96,
      "outputs": []
    },
    {
      "cell_type": "code",
      "source": [
        ""
      ],
      "metadata": {
        "id": "9pAFek4IG3BS"
      },
      "execution_count": null,
      "outputs": []
    }
  ]
}