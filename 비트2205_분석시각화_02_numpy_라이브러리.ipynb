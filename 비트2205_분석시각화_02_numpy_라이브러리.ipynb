{
  "nbformat": 4,
  "nbformat_minor": 0,
  "metadata": {
    "colab": {
      "name": "비트2205 분석시각화 02 - numpy 라이브러리.ipynb",
      "provenance": [],
      "authorship_tag": "ABX9TyNONP1nWZPGdLaoGF+aVKjR",
      "include_colab_link": true
    },
    "kernelspec": {
      "name": "python3",
      "display_name": "Python 3"
    },
    "language_info": {
      "name": "python"
    }
  },
  "cells": [
    {
      "cell_type": "markdown",
      "metadata": {
        "id": "view-in-github",
        "colab_type": "text"
      },
      "source": [
        "<a href=\"https://colab.research.google.com/github/pyc970905/pythonBigData/blob/main/%EB%B9%84%ED%8A%B82205_%EB%B6%84%EC%84%9D%EC%8B%9C%EA%B0%81%ED%99%94_02_numpy_%EB%9D%BC%EC%9D%B4%EB%B8%8C%EB%9F%AC%EB%A6%AC.ipynb\" target=\"_parent\"><img src=\"https://colab.research.google.com/assets/colab-badge.svg\" alt=\"Open In Colab\"/></a>"
      ]
    },
    {
      "cell_type": "code",
      "execution_count": 28,
      "metadata": {
        "id": "DPYD2HDOK1OX"
      },
      "outputs": [],
      "source": [
        "import numpy as np\n",
        "# numpy를 쓰면 메모리를 사용량과 속도가 빠르다.\n",
        "\n",
        "ls3 = [[1,2,3],[2,3],[4,5,6,7]]\n",
        "#arr3= np.array(ls3)            numpyd의 배열은 원소 형식이 같아야 한다.\n",
        "arr3 = np.array([[1,2],[3,4],[5,6]])"
      ]
    },
    {
      "cell_type": "code",
      "source": [
        "print(arr3)"
      ],
      "metadata": {
        "colab": {
          "base_uri": "https://localhost:8080/"
        },
        "id": "5uQqnmOOLKL1",
        "outputId": "03af54c0-72e4-4ce5-cc12-e98b438e09be"
      },
      "execution_count": 29,
      "outputs": [
        {
          "output_type": "stream",
          "name": "stdout",
          "text": [
            "[[1 2]\n",
            " [3 4]\n",
            " [5 6]]\n"
          ]
        }
      ]
    },
    {
      "cell_type": "code",
      "source": [
        "ls4 = list(range(10))\n",
        "arr4 = np.arange(10)\n",
        "print(arr4)\n",
        "\n",
        "#arr = []\n",
        "#for i in range(100):\n",
        "# arr4.append(i)\n",
        "# 보다 효율이 좋은 형식이다."
      ],
      "metadata": {
        "colab": {
          "base_uri": "https://localhost:8080/"
        },
        "id": "lnv0uPtxLc3S",
        "outputId": "644347aa-ffe3-45b9-e2e9-44d61ce54a54"
      },
      "execution_count": 30,
      "outputs": [
        {
          "output_type": "stream",
          "name": "stdout",
          "text": [
            "[0 1 2 3 4 5 6 7 8 9]\n"
          ]
        }
      ]
    },
    {
      "cell_type": "code",
      "source": [
        "ls5 = ls4*2     #리스트 요소의 값을 하나하나 2로 나눠주는 구문이아니다.\n",
        "arr5 = arr4*2   #numpy를 통해 수학적 연산이 가능한 리스트로 변환을 해주어야한다.\n",
        "print(ls5)\n",
        "print('------')\n",
        "print(arr5)"
      ],
      "metadata": {
        "colab": {
          "base_uri": "https://localhost:8080/"
        },
        "id": "EuEoCuAWLjnK",
        "outputId": "4fb8e2bd-942b-4012-dc4e-4d8d3708ce21"
      },
      "execution_count": 31,
      "outputs": [
        {
          "output_type": "stream",
          "name": "stdout",
          "text": [
            "[0, 1, 2, 3, 4, 5, 6, 7, 8, 9, 0, 1, 2, 3, 4, 5, 6, 7, 8, 9]\n",
            "------\n",
            "[ 0  2  4  6  8 10 12 14 16 18]\n"
          ]
        }
      ]
    },
    {
      "cell_type": "code",
      "source": [
        "arr = np.array([1,2,3])\n",
        "arr.shape"
      ],
      "metadata": {
        "colab": {
          "base_uri": "https://localhost:8080/"
        },
        "id": "-oosXm08Nf8x",
        "outputId": "19f53eaa-d820-4a9c-92f4-3c06e607953b"
      },
      "execution_count": 32,
      "outputs": [
        {
          "output_type": "execute_result",
          "data": {
            "text/plain": [
              "(3,)"
            ]
          },
          "metadata": {},
          "execution_count": 32
        }
      ]
    },
    {
      "cell_type": "code",
      "source": [
        "arr2 = np.array([[1,2,3],[1,2,3]])\n",
        "arr2.shape"
      ],
      "metadata": {
        "colab": {
          "base_uri": "https://localhost:8080/"
        },
        "id": "mNQsZQbkMIGZ",
        "outputId": "11f804e6-7b9f-4074-be92-05f083971428"
      },
      "execution_count": 33,
      "outputs": [
        {
          "output_type": "execute_result",
          "data": {
            "text/plain": [
              "(2, 3)"
            ]
          },
          "metadata": {},
          "execution_count": 33
        }
      ]
    },
    {
      "cell_type": "code",
      "source": [
        "arr3= np.random.randn(2,3)\n",
        "print(arr3.shape)\n",
        "print(arr3)"
      ],
      "metadata": {
        "colab": {
          "base_uri": "https://localhost:8080/"
        },
        "id": "Aih-gcHbNysi",
        "outputId": "381d2181-75b8-4b5b-d787-f538275bc166"
      },
      "execution_count": 34,
      "outputs": [
        {
          "output_type": "stream",
          "name": "stdout",
          "text": [
            "(2, 3)\n",
            "[[ 0.91984314 -0.84518144 -0.54183833]\n",
            " [-1.10555194 -1.5033858   1.44805632]]\n"
          ]
        }
      ]
    },
    {
      "cell_type": "code",
      "source": [
        "arr1 = np.array([[1,2],[3,4]])\n",
        "arr2 = np.array([[5,2],[1,3]])\n",
        "arr3 = arr1 + arr2\n",
        "print(arr3)"
      ],
      "metadata": {
        "colab": {
          "base_uri": "https://localhost:8080/"
        },
        "id": "-iUw3L41N_Aw",
        "outputId": "a81e4067-e9d2-4642-8bc7-271f555fa3ae"
      },
      "execution_count": 35,
      "outputs": [
        {
          "output_type": "stream",
          "name": "stdout",
          "text": [
            "[[6 4]\n",
            " [4 7]]\n"
          ]
        }
      ]
    },
    {
      "cell_type": "code",
      "source": [
        "arr = np.array([1,2,'a',3.23])\n",
        "arr.dtype"
      ],
      "metadata": {
        "colab": {
          "base_uri": "https://localhost:8080/"
        },
        "id": "aJjJYb1UOMl5",
        "outputId": "c4d06d70-b790-4fd9-8cb4-5910191301cf"
      },
      "execution_count": 36,
      "outputs": [
        {
          "output_type": "execute_result",
          "data": {
            "text/plain": [
              "dtype('<U32')"
            ]
          },
          "metadata": {},
          "execution_count": 36
        }
      ]
    },
    {
      "cell_type": "code",
      "source": [
        "arr = np.array([1,2,3])\n",
        "arr.dtype"
      ],
      "metadata": {
        "colab": {
          "base_uri": "https://localhost:8080/"
        },
        "id": "84f3_I8COllp",
        "outputId": "6b534df1-05a9-465d-b58c-633d387e7edb"
      },
      "execution_count": 37,
      "outputs": [
        {
          "output_type": "execute_result",
          "data": {
            "text/plain": [
              "dtype('int64')"
            ]
          },
          "metadata": {},
          "execution_count": 37
        }
      ]
    },
    {
      "cell_type": "code",
      "source": [
        "arr = np.array([1,2,3,4.0])\n",
        "arr.dtype\n",
        "\n",
        "for i in range(4):\n",
        "  print(arr[i])"
      ],
      "metadata": {
        "colab": {
          "base_uri": "https://localhost:8080/"
        },
        "id": "Gc1L22JVOpBb",
        "outputId": "d5e96247-b252-49d2-9379-cf2a6c6fc071"
      },
      "execution_count": 38,
      "outputs": [
        {
          "output_type": "stream",
          "name": "stdout",
          "text": [
            "1.0\n",
            "2.0\n",
            "3.0\n",
            "4.0\n"
          ]
        }
      ]
    },
    {
      "cell_type": "code",
      "source": [
        "arr = np.array([1,'a',2.3])\n",
        "print(type(arr[0]),type(arr[1]),type(arr[2]))\n",
        "arr.dtype                                     #각 요소의 데이터 타입이 다르다면 요소중 가장 많은 데이터를 차지하는 요소의 데이터 타입으로 통일해준다."
      ],
      "metadata": {
        "colab": {
          "base_uri": "https://localhost:8080/"
        },
        "id": "wFHTV5gvO4T-",
        "outputId": "7f95bad7-957c-41ad-ee1e-4126c9b50ab5"
      },
      "execution_count": 39,
      "outputs": [
        {
          "output_type": "stream",
          "name": "stdout",
          "text": [
            "<class 'numpy.str_'> <class 'numpy.str_'> <class 'numpy.str_'>\n"
          ]
        },
        {
          "output_type": "execute_result",
          "data": {
            "text/plain": [
              "dtype('<U32')"
            ]
          },
          "metadata": {},
          "execution_count": 39
        }
      ]
    },
    {
      "cell_type": "markdown",
      "source": [
        "#배열 생성"
      ],
      "metadata": {
        "id": "EQHU4cU_Pl3H"
      }
    },
    {
      "cell_type": "code",
      "source": [
        "arr = np.array([1,2,3]) # 리스트를 입력 인자로 배열 개체 생성\n",
        "print(arr)"
      ],
      "metadata": {
        "colab": {
          "base_uri": "https://localhost:8080/"
        },
        "id": "BDzoSg04PR9N",
        "outputId": "2f9b5347-1d68-42da-8813-cac9a2582f4c"
      },
      "execution_count": 40,
      "outputs": [
        {
          "output_type": "stream",
          "name": "stdout",
          "text": [
            "[1 2 3]\n"
          ]
        }
      ]
    },
    {
      "cell_type": "code",
      "source": [
        "arr2 =np.array([[1,2,3],[4,5,6]])\n",
        "print(arr2)"
      ],
      "metadata": {
        "colab": {
          "base_uri": "https://localhost:8080/"
        },
        "id": "Q0-KdcD5PzD_",
        "outputId": "64a2bf5c-484a-493c-a3cf-1116493589a9"
      },
      "execution_count": 41,
      "outputs": [
        {
          "output_type": "stream",
          "name": "stdout",
          "text": [
            "[[1 2 3]\n",
            " [4 5 6]]\n"
          ]
        }
      ]
    },
    {
      "cell_type": "code",
      "source": [
        "print(\"차원:\",arr2.ndim)\n",
        "print(\"구조:\",arr2.shape)"
      ],
      "metadata": {
        "colab": {
          "base_uri": "https://localhost:8080/"
        },
        "id": "AoGVh5k2P4tQ",
        "outputId": "eb21db8b-5c1f-499c-c305-f51e106911c5"
      },
      "execution_count": 42,
      "outputs": [
        {
          "output_type": "stream",
          "name": "stdout",
          "text": [
            "차원: 2\n",
            "구조: (2, 3)\n"
          ]
        }
      ]
    },
    {
      "cell_type": "code",
      "source": [
        "arr3 = np.zeros(10) #0을 원소로 하는 배열\n",
        "print(arr3)"
      ],
      "metadata": {
        "colab": {
          "base_uri": "https://localhost:8080/"
        },
        "id": "1XHanBAGQB92",
        "outputId": "97467fa1-960e-4cd2-814e-750c66acf971"
      },
      "execution_count": 43,
      "outputs": [
        {
          "output_type": "stream",
          "name": "stdout",
          "text": [
            "[0. 0. 0. 0. 0. 0. 0. 0. 0. 0.]\n"
          ]
        }
      ]
    },
    {
      "cell_type": "code",
      "source": [
        "arr4 = np.zeros((4,5))   #0을 원소로 4*5 구조의 배열 생성\n",
        "print(arr4)"
      ],
      "metadata": {
        "colab": {
          "base_uri": "https://localhost:8080/"
        },
        "id": "_UHMaZN0QsE9",
        "outputId": "8d6616a0-2abc-4b58-96c5-9e1189445e64"
      },
      "execution_count": 44,
      "outputs": [
        {
          "output_type": "stream",
          "name": "stdout",
          "text": [
            "[[0. 0. 0. 0. 0.]\n",
            " [0. 0. 0. 0. 0.]\n",
            " [0. 0. 0. 0. 0.]\n",
            " [0. 0. 0. 0. 0.]]\n"
          ]
        }
      ]
    },
    {
      "cell_type": "code",
      "source": [
        "arr5 = np.ones(10) # 모든 원소를 10으로 채운다."
      ],
      "metadata": {
        "id": "H3WyFLGPQw34"
      },
      "execution_count": 45,
      "outputs": []
    },
    {
      "cell_type": "code",
      "source": [
        "arr6 = np.ones((2,3))\n",
        "print(arr6)"
      ],
      "metadata": {
        "colab": {
          "base_uri": "https://localhost:8080/"
        },
        "id": "B5v5IRUFRtEo",
        "outputId": "079310f6-cacd-4d6f-b172-037c46e549a2"
      },
      "execution_count": 46,
      "outputs": [
        {
          "output_type": "stream",
          "name": "stdout",
          "text": [
            "[[1. 1. 1.]\n",
            " [1. 1. 1.]]\n"
          ]
        }
      ]
    },
    {
      "cell_type": "code",
      "source": [
        "arr7 = np.arange(5,100,3)\n",
        "print(arr7)"
      ],
      "metadata": {
        "colab": {
          "base_uri": "https://localhost:8080/"
        },
        "id": "zJtj1F0kRx2Y",
        "outputId": "6b70d33e-f077-4f89-ff84-ebf7d41d29d3"
      },
      "execution_count": 47,
      "outputs": [
        {
          "output_type": "stream",
          "name": "stdout",
          "text": [
            "[ 5  8 11 14 17 20 23 26 29 32 35 38 41 44 47 50 53 56 59 62 65 68 71 74\n",
            " 77 80 83 86 89 92 95 98]\n"
          ]
        }
      ]
    },
    {
      "cell_type": "markdown",
      "source": [
        "# 원소 타입"
      ],
      "metadata": {
        "id": "3r82rq38WGnf"
      }
    },
    {
      "cell_type": "code",
      "source": [
        "arr = np.array([1,2,3])\n",
        "print(arr.dtype)"
      ],
      "metadata": {
        "colab": {
          "base_uri": "https://localhost:8080/"
        },
        "id": "hXiOKTj-R2NI",
        "outputId": "e4179463-ed03-4244-c8ac-dc279be2401c"
      },
      "execution_count": 48,
      "outputs": [
        {
          "output_type": "stream",
          "name": "stdout",
          "text": [
            "int64\n"
          ]
        }
      ]
    },
    {
      "cell_type": "code",
      "source": [
        "arr2 = np.array([12,3.4,3])\n",
        "print(arr2.dtype)"
      ],
      "metadata": {
        "colab": {
          "base_uri": "https://localhost:8080/"
        },
        "id": "DnSq6aSnWgDf",
        "outputId": "01f890e9-1115-45e1-94e0-99e4a88740aa"
      },
      "execution_count": 49,
      "outputs": [
        {
          "output_type": "stream",
          "name": "stdout",
          "text": [
            "float64\n"
          ]
        }
      ]
    },
    {
      "cell_type": "code",
      "source": [
        "arr3 = np.array([1,2,3,4],dtype=np.float64)\n",
        "print(arr3.dtype)"
      ],
      "metadata": {
        "colab": {
          "base_uri": "https://localhost:8080/"
        },
        "id": "bY1kG2RSWn_Y",
        "outputId": "60d8ed18-f75d-417a-e5d4-2f48cba4a9ec"
      },
      "execution_count": 50,
      "outputs": [
        {
          "output_type": "stream",
          "name": "stdout",
          "text": [
            "float64\n"
          ]
        }
      ]
    },
    {
      "cell_type": "code",
      "source": [
        "print(arr3)\n",
        "arr4 = arr3.astype(int)\n",
        "print(arr4)"
      ],
      "metadata": {
        "colab": {
          "base_uri": "https://localhost:8080/"
        },
        "id": "El8yaGl-W18l",
        "outputId": "de77f066-85ff-4f22-d0e3-4ddb7f5d4299"
      },
      "execution_count": 51,
      "outputs": [
        {
          "output_type": "stream",
          "name": "stdout",
          "text": [
            "[1. 2. 3. 4.]\n",
            "[1 2 3 4]\n"
          ]
        }
      ]
    },
    {
      "cell_type": "code",
      "source": [
        "arr1= np.array([[1,2,3],[3,4,5]])\n",
        "arr2 = np.array([[2,1,0],[1,2,3]])\n",
        "print(\"arr1\\n\",arr1)\n",
        "print(\"arr2\\n\",arr2)"
      ],
      "metadata": {
        "colab": {
          "base_uri": "https://localhost:8080/"
        },
        "id": "VvP6PhE2XKTk",
        "outputId": "bd5440f5-922e-489b-9aeb-c4c9e9e9ceea"
      },
      "execution_count": 52,
      "outputs": [
        {
          "output_type": "stream",
          "name": "stdout",
          "text": [
            "arr1\n",
            " [[1 2 3]\n",
            " [3 4 5]]\n",
            "arr2\n",
            " [[2 1 0]\n",
            " [1 2 3]]\n"
          ]
        }
      ]
    },
    {
      "cell_type": "code",
      "source": [
        "arr3 = arr1 + arr2\n",
        "print(\"arr1-arr2\\n\",arr3)"
      ],
      "metadata": {
        "colab": {
          "base_uri": "https://localhost:8080/"
        },
        "id": "_TzXScl1X9-W",
        "outputId": "e8d062e0-4139-47d1-abbc-c7dc1f664e91"
      },
      "execution_count": 53,
      "outputs": [
        {
          "output_type": "stream",
          "name": "stdout",
          "text": [
            "arr1-arr2\n",
            " [[3 3 3]\n",
            " [4 6 8]]\n"
          ]
        }
      ]
    },
    {
      "cell_type": "code",
      "source": [
        "arr5 = arr1 * arr2\n",
        "print(\"arr1*arr2\\n\",arr5)"
      ],
      "metadata": {
        "colab": {
          "base_uri": "https://localhost:8080/"
        },
        "id": "1R0k7ybgYDIZ",
        "outputId": "fe83fdf3-c479-490a-afa1-14f1c2bd0103"
      },
      "execution_count": 54,
      "outputs": [
        {
          "output_type": "stream",
          "name": "stdout",
          "text": [
            "arr1*arr2\n",
            " [[ 2  2  0]\n",
            " [ 3  8 15]]\n"
          ]
        }
      ]
    },
    {
      "cell_type": "code",
      "source": [
        "arr6 = np.dot(arr1,arr2)\n",
        "print(arr6)  #행렬 내적의 오류"
      ],
      "metadata": {
        "colab": {
          "base_uri": "https://localhost:8080/",
          "height": 229
        },
        "id": "RBUsj1yeYqpd",
        "outputId": "747061e9-2eb9-42fd-e860-169b93c33f77"
      },
      "execution_count": 55,
      "outputs": [
        {
          "output_type": "error",
          "ename": "ValueError",
          "evalue": "ignored",
          "traceback": [
            "\u001b[0;31m---------------------------------------------------------------------------\u001b[0m",
            "\u001b[0;31mValueError\u001b[0m                                Traceback (most recent call last)",
            "\u001b[0;32m<ipython-input-55-7d42c66675b9>\u001b[0m in \u001b[0;36m<module>\u001b[0;34m()\u001b[0m\n\u001b[0;32m----> 1\u001b[0;31m \u001b[0marr6\u001b[0m \u001b[0;34m=\u001b[0m \u001b[0mnp\u001b[0m\u001b[0;34m.\u001b[0m\u001b[0mdot\u001b[0m\u001b[0;34m(\u001b[0m\u001b[0marr1\u001b[0m\u001b[0;34m,\u001b[0m\u001b[0marr2\u001b[0m\u001b[0;34m)\u001b[0m\u001b[0;34m\u001b[0m\u001b[0;34m\u001b[0m\u001b[0m\n\u001b[0m\u001b[1;32m      2\u001b[0m \u001b[0mprint\u001b[0m\u001b[0;34m(\u001b[0m\u001b[0marr6\u001b[0m\u001b[0;34m)\u001b[0m  \u001b[0;31m#행렬 내적의 오류\u001b[0m\u001b[0;34m\u001b[0m\u001b[0;34m\u001b[0m\u001b[0m\n",
            "\u001b[0;32m<__array_function__ internals>\u001b[0m in \u001b[0;36mdot\u001b[0;34m(*args, **kwargs)\u001b[0m\n",
            "\u001b[0;31mValueError\u001b[0m: shapes (2,3) and (2,3) not aligned: 3 (dim 1) != 2 (dim 0)"
          ]
        }
      ]
    },
    {
      "cell_type": "code",
      "source": [
        "arr7 = arr1/3.0\n",
        "print(\"arr1/3,0\\n\",arr7)"
      ],
      "metadata": {
        "colab": {
          "base_uri": "https://localhost:8080/"
        },
        "id": "F3E079dCYyey",
        "outputId": "659e0edb-1b7a-4f5b-c59c-dafe1e8ce3ac"
      },
      "execution_count": 56,
      "outputs": [
        {
          "output_type": "stream",
          "name": "stdout",
          "text": [
            "arr1/3,0\n",
            " [[0.33333333 0.66666667 1.        ]\n",
            " [1.         1.33333333 1.66666667]]\n"
          ]
        }
      ]
    },
    {
      "cell_type": "code",
      "source": [
        "arr8 = arr1*3.0\n",
        "print(\"arr1*3,0\\n\",arr8)"
      ],
      "metadata": {
        "colab": {
          "base_uri": "https://localhost:8080/"
        },
        "id": "iLa4ywH_ZK-4",
        "outputId": "4d5fc0a3-14eb-4227-f5a0-8fbe925519ec"
      },
      "execution_count": 57,
      "outputs": [
        {
          "output_type": "stream",
          "name": "stdout",
          "text": [
            "arr1*3,0\n",
            " [[ 3.  6.  9.]\n",
            " [ 9. 12. 15.]]\n"
          ]
        }
      ]
    },
    {
      "cell_type": "markdown",
      "source": [
        "#간단한 활용 예"
      ],
      "metadata": {
        "id": "ICTeqMerZSG2"
      }
    },
    {
      "cell_type": "code",
      "source": [
        "heights = np.random.normal(172.5,scale=5,size=1000)\n",
        "print(sum(heights)/len(heights))"
      ],
      "metadata": {
        "id": "kHJze5LQZO0L"
      },
      "execution_count": null,
      "outputs": []
    },
    {
      "cell_type": "code",
      "source": [
        "import matplotlib.pyplot as plt\n",
        "\n",
        "plt.plot(heights,'.')\n",
        "plt.show()\n"
      ],
      "metadata": {
        "id": "LnzywxFwZzGn"
      },
      "execution_count": null,
      "outputs": []
    },
    {
      "cell_type": "code",
      "source": [
        "bins  = np.zeros(50)\n",
        "for height in heights :\n",
        "  index = int(height)-150\n",
        "  bins[index] = bins[index]+1\n",
        "print(bins)"
      ],
      "metadata": {
        "id": "-Q7RHQEaaQr-"
      },
      "execution_count": null,
      "outputs": []
    },
    {
      "cell_type": "code",
      "source": [
        "plt.plot(bins,'.')\n",
        "plt.show()"
      ],
      "metadata": {
        "id": "fO8oXPlQbJDJ"
      },
      "execution_count": null,
      "outputs": []
    },
    {
      "cell_type": "code",
      "source": [
        "bmis = np.random.normal(22,scale=2,size=1000)\n",
        "print(sum(bmis)/len(bmis))"
      ],
      "metadata": {
        "id": "KyFiD8PdbfcI"
      },
      "execution_count": null,
      "outputs": []
    },
    {
      "cell_type": "code",
      "source": [
        "bins  = np.zeros(200)\n",
        "for bmi in bmis :\n",
        "  index = int(bmi*10)-120\n",
        "  \n",
        "  bins[index] = bins[index]+1\n",
        "plt.plot(bins,'.')\n",
        "plt.show()"
      ],
      "metadata": {
        "id": "VHiPxfoYcAjv"
      },
      "execution_count": null,
      "outputs": []
    },
    {
      "cell_type": "code",
      "source": [
        "weights = bmi * heights*heights/10000\n",
        "print(sum(weights)/len(weights))"
      ],
      "metadata": {
        "id": "6WX_SMowcYOS"
      },
      "execution_count": null,
      "outputs": []
    },
    {
      "cell_type": "code",
      "source": [
        "std_heights = np.std(heights)\n",
        "aver_heights = np.average(heights)\n",
        "print(\"표준 편차:\",std_heights)\n",
        "print(\"평균 :\",aver_heights)"
      ],
      "metadata": {
        "id": "H7b5KE7WddAD"
      },
      "execution_count": null,
      "outputs": []
    },
    {
      "cell_type": "code",
      "source": [
        "heights2 = (heights-aver_heights)/std_heights\n",
        "std_heights2 = np.std(heights2)\n",
        "aver_heights2 = np.average(heights2)\n",
        "print(\"표준 편차:\",std_heights2)\n",
        "print(\"평균 :\",aver_heights2)"
      ],
      "metadata": {
        "id": "HmzTFLvWeipc"
      },
      "execution_count": null,
      "outputs": []
    },
    {
      "cell_type": "markdown",
      "source": [
        "#슬라이스"
      ],
      "metadata": {
        "id": "hrkJ7HLFfv5P"
      }
    },
    {
      "cell_type": "code",
      "source": [
        "arr = np.arange(1000)\n",
        "print(arr)"
      ],
      "metadata": {
        "id": "DBVKsf3SeyLR"
      },
      "execution_count": null,
      "outputs": []
    },
    {
      "cell_type": "code",
      "source": [
        "arr[5:8]"
      ],
      "metadata": {
        "id": "heL8XMj2lKce"
      },
      "execution_count": null,
      "outputs": []
    },
    {
      "cell_type": "code",
      "source": [
        "arr[-2]"
      ],
      "metadata": {
        "id": "Bt5TTpLelLat"
      },
      "execution_count": null,
      "outputs": []
    },
    {
      "cell_type": "code",
      "source": [
        "arr[980:-1]"
      ],
      "metadata": {
        "id": "f4E6SepelW0t"
      },
      "execution_count": null,
      "outputs": []
    },
    {
      "cell_type": "code",
      "source": [
        "arr[:5]"
      ],
      "metadata": {
        "id": "GnXm_p4blYnE"
      },
      "execution_count": null,
      "outputs": []
    },
    {
      "cell_type": "code",
      "source": [
        "arr[980:]"
      ],
      "metadata": {
        "id": "7XeIY4TCllja"
      },
      "execution_count": null,
      "outputs": []
    },
    {
      "cell_type": "code",
      "source": [
        "arr[::3]"
      ],
      "metadata": {
        "id": "zAAakt4mlnTq"
      },
      "execution_count": null,
      "outputs": []
    },
    {
      "cell_type": "code",
      "source": [
        "arr2 = np.array([[1,2,3],[4,5,6]])\n",
        "print(arr2[0])"
      ],
      "metadata": {
        "id": "dDQFyJ6clpzW"
      },
      "execution_count": null,
      "outputs": []
    },
    {
      "cell_type": "code",
      "source": [
        "arr2[0][1]"
      ],
      "metadata": {
        "id": "kAezgUX9l6ib"
      },
      "execution_count": null,
      "outputs": []
    },
    {
      "cell_type": "code",
      "source": [
        "type(arr2)"
      ],
      "metadata": {
        "id": "XKoQOJr_l-bv"
      },
      "execution_count": null,
      "outputs": []
    },
    {
      "cell_type": "code",
      "source": [
        "arr2[:][1]"
      ],
      "metadata": {
        "id": "ovMeqY7gmBZa"
      },
      "execution_count": null,
      "outputs": []
    },
    {
      "cell_type": "markdown",
      "source": [
        "# 필터 선택\n"
      ],
      "metadata": {
        "id": "c7v5mhISmKAF"
      }
    },
    {
      "cell_type": "code",
      "source": [
        "arr = np.array([1,3,2,5,4,7,8])\n",
        "print(arr)"
      ],
      "metadata": {
        "id": "bra4fXbPmDME"
      },
      "execution_count": null,
      "outputs": []
    },
    {
      "cell_type": "code",
      "source": [
        "filter = arr%2 ==0\n",
        "print(filter)"
      ],
      "metadata": {
        "id": "f9wdcHnHmUzy"
      },
      "execution_count": null,
      "outputs": []
    },
    {
      "cell_type": "code",
      "source": [
        "even_arr = arr[filter]\n",
        "even_arr"
      ],
      "metadata": {
        "id": "rjTN4yuumY_J"
      },
      "execution_count": null,
      "outputs": []
    },
    {
      "cell_type": "markdown",
      "source": [
        "#구조 변경"
      ],
      "metadata": {
        "id": "7vTx7fuzm7A-"
      }
    },
    {
      "cell_type": "code",
      "source": [
        "arr = np.arange(7*2*5)\n",
        "print(arr)"
      ],
      "metadata": {
        "id": "2hP6pE0Mmfp2"
      },
      "execution_count": null,
      "outputs": []
    },
    {
      "cell_type": "code",
      "source": [
        "print(arr.shape)"
      ],
      "metadata": {
        "id": "f33bSbrunI9r"
      },
      "execution_count": null,
      "outputs": []
    },
    {
      "cell_type": "code",
      "source": [
        "arr2 = arr.reshape((7,-1))"
      ],
      "metadata": {
        "id": "lJiUSuZHnLRq"
      },
      "execution_count": null,
      "outputs": []
    },
    {
      "cell_type": "code",
      "source": [
        "print(arr2)"
      ],
      "metadata": {
        "id": "Ff4mPJ5BnSL1"
      },
      "execution_count": null,
      "outputs": []
    },
    {
      "cell_type": "code",
      "source": [
        "arr3 = arr.reshape(7,-1,5) # -1은 자동으로 계산해서 원소 갯수를 나눠준다.\n",
        "print(arr3.shape)\n",
        "print(arr3)"
      ],
      "metadata": {
        "id": "nXfAxq6UnTKh"
      },
      "execution_count": null,
      "outputs": []
    },
    {
      "cell_type": "code",
      "source": [
        "arr = np.array([[1,2,3],[4,5,6]])\n",
        "print(arr)\n",
        "arr2 = arr.T\n",
        "print(arr2)"
      ],
      "metadata": {
        "id": "5um3A1ddnoDk"
      },
      "execution_count": null,
      "outputs": []
    },
    {
      "cell_type": "code",
      "source": [
        "arr3 = arr.transpose()\n",
        "print(arr3)"
      ],
      "metadata": {
        "id": "RniIbKzwppBw"
      },
      "execution_count": null,
      "outputs": []
    },
    {
      "cell_type": "markdown",
      "source": [
        "#자잘한 함수"
      ],
      "metadata": {
        "id": "9BVuVu9pqX0l"
      }
    },
    {
      "cell_type": "code",
      "source": [
        "arr = np.random.randint(0,100,5)\n",
        "print(arr)"
      ],
      "metadata": {
        "id": "aKUBn1s2qOda"
      },
      "execution_count": null,
      "outputs": []
    },
    {
      "cell_type": "code",
      "source": [
        "arr2 = np.sqrt(arr)\n",
        "print(arr2)"
      ],
      "metadata": {
        "id": "gYnkfNodqqoq"
      },
      "execution_count": null,
      "outputs": []
    },
    {
      "cell_type": "code",
      "source": [
        "arr3 = np.random.randint(0,100,5)\n",
        "print(arr3)"
      ],
      "metadata": {
        "id": "3ZZr1Zmrq4sZ"
      },
      "execution_count": null,
      "outputs": []
    },
    {
      "cell_type": "code",
      "source": [
        "arr4 = np.maximum(arr,arr3)\n",
        "print(arr4)"
      ],
      "metadata": {
        "id": "TOpS7qIJrCHz"
      },
      "execution_count": null,
      "outputs": []
    },
    {
      "cell_type": "markdown",
      "source": [
        "# numpy 활용 예 -영상처리"
      ],
      "metadata": {
        "id": "yAeREpwSL5cc"
      }
    },
    {
      "cell_type": "code",
      "source": [
        "import cv2 #OpenCV 라이브러리\n",
        "from google.colab.patches import cv2_imshow #코랩에서 시각화를 위해 필요한 구문"
      ],
      "metadata": {
        "id": "jUha-BiBrIlw"
      },
      "execution_count": null,
      "outputs": []
    },
    {
      "cell_type": "code",
      "source": [
        "path = '/content/drive/MyDrive/PHOTO_0905.jpg'\n",
        "image = cv2.imread(path,cv2.IMREAD_COLOR)\n",
        "cv2_imshow(image)"
      ],
      "metadata": {
        "id": "CnH5JUyHMBTJ"
      },
      "execution_count": null,
      "outputs": []
    },
    {
      "cell_type": "code",
      "source": [
        "print(type(image))"
      ],
      "metadata": {
        "id": "NkjA-iNDM67p"
      },
      "execution_count": null,
      "outputs": []
    },
    {
      "cell_type": "code",
      "source": [
        "print(image.ndim)"
      ],
      "metadata": {
        "id": "bDoaKtb0N0s6"
      },
      "execution_count": null,
      "outputs": []
    },
    {
      "cell_type": "code",
      "source": [
        "print(image.shape)"
      ],
      "metadata": {
        "id": "PHdlXtuCN2Ql"
      },
      "execution_count": null,
      "outputs": []
    },
    {
      "cell_type": "code",
      "source": [
        "image[:,:,0] =255\n",
        "cv2_imshow(image)"
      ],
      "metadata": {
        "id": "gIBmWf03N3zb"
      },
      "execution_count": null,
      "outputs": []
    },
    {
      "cell_type": "code",
      "source": [
        "image[:,:,2]=255\n",
        "cv2_imshow(image)"
      ],
      "metadata": {
        "id": "r5wFk7ZmObr-"
      },
      "execution_count": null,
      "outputs": []
    },
    {
      "cell_type": "code",
      "source": [
        "from tensorflow import keras"
      ],
      "metadata": {
        "id": "uhUwqQQQO2mk"
      },
      "execution_count": null,
      "outputs": []
    },
    {
      "cell_type": "code",
      "source": [
        "data = keras.datasets.mnist.load_data()"
      ],
      "metadata": {
        "id": "U8by2CG3PD7h"
      },
      "execution_count": null,
      "outputs": []
    },
    {
      "cell_type": "code",
      "source": [
        "print(type(data))"
      ],
      "metadata": {
        "id": "sVsm678TPKld"
      },
      "execution_count": null,
      "outputs": []
    },
    {
      "cell_type": "code",
      "source": [
        "print(len(data))"
      ],
      "metadata": {
        "id": "Ud7B3_9XPqm-"
      },
      "execution_count": null,
      "outputs": []
    },
    {
      "cell_type": "code",
      "source": [
        "train_data,test_data=data\n",
        "print(type(train_data))\n",
        "print(len(train_data))\n",
        "print(type(test_data))\n",
        "print(len(test_data))\n"
      ],
      "metadata": {
        "id": "AxuOUNKGPsFm"
      },
      "execution_count": null,
      "outputs": []
    },
    {
      "cell_type": "code",
      "source": [
        "x_train,y_train = train_data\n",
        "x_test,y_test = test_data\n",
        "print(type(x_train),type(y_train))\n",
        "print(type(x_test),type(y_test))"
      ],
      "metadata": {
        "id": "UWQWAyX5P2QE"
      },
      "execution_count": null,
      "outputs": []
    },
    {
      "cell_type": "code",
      "source": [
        "print(x_train.shape, y_train.shape)\n",
        "print(x_test.shape, y_test.shape)"
      ],
      "metadata": {
        "id": "kEMFcA5VQDcN"
      },
      "execution_count": null,
      "outputs": []
    },
    {
      "cell_type": "code",
      "source": [
        "for i in range(10):\n",
        "  image = x_train[i]\n",
        "  print(y_train[i])\n",
        "  cv2_imshow(image)"
      ],
      "metadata": {
        "id": "sY1l0X7oQRLJ"
      },
      "execution_count": null,
      "outputs": []
    },
    {
      "cell_type": "markdown",
      "source": [
        ""
      ],
      "metadata": {
        "id": "CerPO24RR9cE"
      }
    },
    {
      "cell_type": "code",
      "source": [
        "arr = np.random.randint(5,100,20)\n",
        "print(arr)"
      ],
      "metadata": {
        "colab": {
          "base_uri": "https://localhost:8080/"
        },
        "id": "NMnQampqQ1N1",
        "outputId": "07641eae-f09b-4bc9-9378-edd00707c05d"
      },
      "execution_count": 163,
      "outputs": [
        {
          "output_type": "stream",
          "name": "stdout",
          "text": [
            "[76 35 84 45 76  9 94 50 92 55 20 11 91 70 94 76 36 39 27 13]\n"
          ]
        }
      ]
    },
    {
      "cell_type": "code",
      "source": [
        "arr2 = arr.reshape(4,-1)\n",
        "print(arr2)"
      ],
      "metadata": {
        "colab": {
          "base_uri": "https://localhost:8080/"
        },
        "id": "W1X_5sHSSH8l",
        "outputId": "8fa95b56-ea71-4e5f-a1f7-530b5cba1021"
      },
      "execution_count": 164,
      "outputs": [
        {
          "output_type": "stream",
          "name": "stdout",
          "text": [
            "[[76 35 84 45 76]\n",
            " [ 9 94 50 92 55]\n",
            " [20 11 91 70 94]\n",
            " [76 36 39 27 13]]\n"
          ]
        }
      ]
    },
    {
      "cell_type": "code",
      "source": [
        "print('평균:',arr2.mean())"
      ],
      "metadata": {
        "colab": {
          "base_uri": "https://localhost:8080/"
        },
        "id": "b9LnsPR_STL2",
        "outputId": "a8bb09d1-d7de-4dbf-fe34-59cbf1f90c70"
      },
      "execution_count": 165,
      "outputs": [
        {
          "output_type": "stream",
          "name": "stdout",
          "text": [
            "평균: 54.65\n"
          ]
        }
      ]
    },
    {
      "cell_type": "code",
      "source": [
        "print('평균(축1):',arr2.mean(axis=1)) #칼럼 축\n",
        "print('평균(축2):',arr2.mean(axis=0)) #로우 축"
      ],
      "metadata": {
        "colab": {
          "base_uri": "https://localhost:8080/"
        },
        "id": "y_P-i441SiIk",
        "outputId": "f65fb692-56b1-412e-c998-14df530d80c9"
      },
      "execution_count": 86,
      "outputs": [
        {
          "output_type": "stream",
          "name": "stdout",
          "text": [
            "평균(축1): [65.6 56.  70.6 46.6]\n",
            "평균(축2): [70.75 62.25 62.5  55.   48.  ]\n"
          ]
        }
      ]
    },
    {
      "cell_type": "code",
      "source": [
        "print('합계:',arr2.sum()) #칼럼 축\n",
        "print('평균(축1):',arr2.mean(axis=1)) #칼럼 축\n",
        "print('평균(축0):',arr2.mean(axis=0)) #로우 축"
      ],
      "metadata": {
        "colab": {
          "base_uri": "https://localhost:8080/"
        },
        "id": "461je3D2S1Kq",
        "outputId": "aa00b7a1-e079-49c2-d3fc-cd43d237121e"
      },
      "execution_count": 87,
      "outputs": [
        {
          "output_type": "stream",
          "name": "stdout",
          "text": [
            "합계: 1194\n",
            "평균(축1): [65.6 56.  70.6 46.6]\n",
            "평균(축0): [70.75 62.25 62.5  55.   48.  ]\n"
          ]
        }
      ]
    },
    {
      "cell_type": "code",
      "source": [
        "print('표준편차:',arr2.std()) #칼럼 축\n",
        "print('분산:',arr2.var()) #칼럼 축\n",
        "print('최솟값:',arr2.min()) #로우 축\n",
        "print('최댓값:',arr2.max()) #로우 축"
      ],
      "metadata": {
        "colab": {
          "base_uri": "https://localhost:8080/"
        },
        "id": "pGQUoY53THDQ",
        "outputId": "0ae1602f-b2d1-495a-b8aa-6fd981189cd1"
      },
      "execution_count": 166,
      "outputs": [
        {
          "output_type": "stream",
          "name": "stdout",
          "text": [
            "표준편차: 29.20663452025926\n",
            "분산: 853.0274999999999\n",
            "최솟값: 9\n",
            "최댓값: 94\n"
          ]
        }
      ]
    },
    {
      "cell_type": "code",
      "source": [
        "arr=np.array([1,3,2,4,56,5,-2,3])\n",
        "print(\"최댓값인덱스:\",arr.argmax())\n",
        "print('최솟값인덱스:',arr.argmin())"
      ],
      "metadata": {
        "colab": {
          "base_uri": "https://localhost:8080/"
        },
        "id": "8NbJKVXrTtlX",
        "outputId": "53dbf51f-c744-4ff9-d59f-e17e07885fe1"
      },
      "execution_count": 167,
      "outputs": [
        {
          "output_type": "stream",
          "name": "stdout",
          "text": [
            "최댓값인덱스: 4\n",
            "최솟값인덱스: 6\n"
          ]
        }
      ]
    },
    {
      "cell_type": "code",
      "source": [
        "arr = np.array([1,2,3,2,4,5])\n",
        "cs = arr.cumsum()\n",
        "print(cs)"
      ],
      "metadata": {
        "colab": {
          "base_uri": "https://localhost:8080/"
        },
        "id": "zK0lnSzMT-EM",
        "outputId": "5bc2f304-b080-45f8-95b6-2b8a8e2898d6"
      },
      "execution_count": 168,
      "outputs": [
        {
          "output_type": "stream",
          "name": "stdout",
          "text": [
            "[ 1  3  6  8 12 17]\n"
          ]
        }
      ]
    },
    {
      "cell_type": "code",
      "source": [
        "import numpy as np\n"
      ],
      "metadata": {
        "id": "UoJUfclwUEFl"
      },
      "execution_count": 12,
      "outputs": []
    },
    {
      "cell_type": "code",
      "source": [
        "def subtract(ls1,ls2):\n",
        "  assert len(ls1)==len(ls2), \"두개의 리스트 원소 개수는 같아야 합니다.\"\n",
        "  return [ls1[i]-ls2[i] for i in range(len(ls1))]"
      ],
      "metadata": {
        "id": "W3gCsLgnUG4F"
      },
      "execution_count": 3,
      "outputs": []
    },
    {
      "cell_type": "code",
      "source": [
        "assert subtract([4,2,8],[1,3,5])== [3,-1,3]"
      ],
      "metadata": {
        "id": "r5S2jFb0eEXn"
      },
      "execution_count": 5,
      "outputs": []
    },
    {
      "cell_type": "code",
      "source": [
        "def scalar_multiply(ls1,num):\n",
        "  return[num*ls1[i] for i in range(len(ls1))]"
      ],
      "metadata": {
        "id": "N98eiWBgeLcn"
      },
      "execution_count": 6,
      "outputs": []
    },
    {
      "cell_type": "code",
      "source": [
        "assert scalar_multiply([2,3,4],3)==[6,9,12]"
      ],
      "metadata": {
        "id": "Ha4hz_DWeaN9"
      },
      "execution_count": 7,
      "outputs": []
    },
    {
      "cell_type": "code",
      "source": [
        "arr1= [[1,2],[3,4]]\n",
        "arr2 = [[2,3],[1,2]]\n",
        "re = np.dot(arr1,arr2)\n",
        "print(re)"
      ],
      "metadata": {
        "colab": {
          "base_uri": "https://localhost:8080/",
          "height": 229
        },
        "id": "9Efqf1lbeg_T",
        "outputId": "2e176940-73d9-4ff6-a624-ab4f8c4ca7f3"
      },
      "execution_count": 8,
      "outputs": [
        {
          "output_type": "error",
          "ename": "NameError",
          "evalue": "ignored",
          "traceback": [
            "\u001b[0;31m---------------------------------------------------------------------------\u001b[0m",
            "\u001b[0;31mNameError\u001b[0m                                 Traceback (most recent call last)",
            "\u001b[0;32m<ipython-input-8-15270a20967f>\u001b[0m in \u001b[0;36m<module>\u001b[0;34m()\u001b[0m\n\u001b[1;32m      1\u001b[0m \u001b[0marr1\u001b[0m\u001b[0;34m=\u001b[0m \u001b[0;34m[\u001b[0m\u001b[0;34m[\u001b[0m\u001b[0;36m1\u001b[0m\u001b[0;34m,\u001b[0m\u001b[0;36m2\u001b[0m\u001b[0;34m]\u001b[0m\u001b[0;34m,\u001b[0m\u001b[0;34m[\u001b[0m\u001b[0;36m3\u001b[0m\u001b[0;34m,\u001b[0m\u001b[0;36m4\u001b[0m\u001b[0;34m]\u001b[0m\u001b[0;34m]\u001b[0m\u001b[0;34m\u001b[0m\u001b[0;34m\u001b[0m\u001b[0m\n\u001b[1;32m      2\u001b[0m \u001b[0marr2\u001b[0m \u001b[0;34m=\u001b[0m \u001b[0;34m[\u001b[0m\u001b[0;34m[\u001b[0m\u001b[0;36m2\u001b[0m\u001b[0;34m,\u001b[0m\u001b[0;36m3\u001b[0m\u001b[0;34m]\u001b[0m\u001b[0;34m,\u001b[0m\u001b[0;34m[\u001b[0m\u001b[0;36m1\u001b[0m\u001b[0;34m,\u001b[0m\u001b[0;36m2\u001b[0m\u001b[0;34m]\u001b[0m\u001b[0;34m]\u001b[0m\u001b[0;34m\u001b[0m\u001b[0;34m\u001b[0m\u001b[0m\n\u001b[0;32m----> 3\u001b[0;31m \u001b[0mre\u001b[0m \u001b[0;34m=\u001b[0m \u001b[0mnp\u001b[0m\u001b[0;34m.\u001b[0m\u001b[0mdot\u001b[0m\u001b[0;34m(\u001b[0m\u001b[0marr1\u001b[0m\u001b[0;34m,\u001b[0m\u001b[0marr2\u001b[0m\u001b[0;34m)\u001b[0m\u001b[0;34m\u001b[0m\u001b[0;34m\u001b[0m\u001b[0m\n\u001b[0m\u001b[1;32m      4\u001b[0m \u001b[0mprint\u001b[0m\u001b[0;34m(\u001b[0m\u001b[0mre\u001b[0m\u001b[0;34m)\u001b[0m\u001b[0;34m\u001b[0m\u001b[0;34m\u001b[0m\u001b[0m\n",
            "\u001b[0;31mNameError\u001b[0m: name 'np' is not defined"
          ]
        }
      ]
    },
    {
      "cell_type": "code",
      "source": [
        "arr = np.diag((3,3,1,3,5,7))\n",
        "print(arr)"
      ],
      "metadata": {
        "colab": {
          "base_uri": "https://localhost:8080/"
        },
        "id": "SFaVueOjeqrF",
        "outputId": "d0b370aa-c5d4-4e45-ebe2-22c393a5a113"
      },
      "execution_count": 13,
      "outputs": [
        {
          "output_type": "stream",
          "name": "stdout",
          "text": [
            "[[3 0 0 0 0 0]\n",
            " [0 3 0 0 0 0]\n",
            " [0 0 1 0 0 0]\n",
            " [0 0 0 3 0 0]\n",
            " [0 0 0 0 5 0]\n",
            " [0 0 0 0 0 7]]\n"
          ]
        }
      ]
    },
    {
      "cell_type": "code",
      "source": [
        "for _ in range(10):\n",
        "  print(np.random.rand()) # 0,1사이의 랜덤한 실수"
      ],
      "metadata": {
        "colab": {
          "base_uri": "https://localhost:8080/"
        },
        "id": "r2MQ9eVrgYNj",
        "outputId": "c21cdadd-1fba-4e0b-cf9c-272dbdffd494"
      },
      "execution_count": 15,
      "outputs": [
        {
          "output_type": "stream",
          "name": "stdout",
          "text": [
            "0.7099169653463194\n",
            "0.8715867188992803\n",
            "0.8752883739474866\n",
            "0.5011234424765852\n",
            "0.8648169678178229\n",
            "0.7382522503766198\n",
            "0.7203729363924444\n",
            "0.09144630439527013\n",
            "0.32956088827468566\n",
            "0.8995695450563993\n"
          ]
        }
      ]
    },
    {
      "cell_type": "code",
      "source": [
        "for _ in range(10):\n",
        "  print(np.random.random(size=3)) #0,1 사이의 랜덤한 실수를 3개씩 하나의 리스트로 "
      ],
      "metadata": {
        "colab": {
          "base_uri": "https://localhost:8080/"
        },
        "id": "D-a5DhT_hOJC",
        "outputId": "629b9071-5a19-436f-cb14-d16c3d28e4d3"
      },
      "execution_count": 17,
      "outputs": [
        {
          "output_type": "stream",
          "name": "stdout",
          "text": [
            "[0.78463964 0.51354881 0.5462654 ]\n",
            "[0.25763443 0.77895071 0.54223821]\n",
            "[0.82185307 0.75201415 0.26903204]\n",
            "[0.55862546 0.0204566  0.13067597]\n",
            "[0.22801115 0.70221223 0.58031386]\n",
            "[0.90045532 0.3190805  0.37474874]\n",
            "[0.41340175 0.78399786 0.73272429]\n",
            "[0.95317403 0.91063113 0.0306122 ]\n",
            "[0.78709541 0.9767659  0.29351568]\n",
            "[0.08566215 0.53823035 0.51137228]\n"
          ]
        }
      ]
    },
    {
      "cell_type": "code",
      "source": [
        "for _ in range(10):\n",
        "  print(np.random.uniform(-2.3)) #시작과 끝값을 설정해 그사이의 랜덤한 실수를 뽑아낸다."
      ],
      "metadata": {
        "colab": {
          "base_uri": "https://localhost:8080/"
        },
        "id": "Sx6wlR1rhg9w",
        "outputId": "e4c45387-3fbd-47d3-e88e-c59d28a3d193"
      },
      "execution_count": 20,
      "outputs": [
        {
          "output_type": "stream",
          "name": "stdout",
          "text": [
            "0.6093932159828972\n",
            "0.696713871498599\n",
            "-1.235245834877259\n",
            "-0.6180979407493519\n",
            "0.0907719327266947\n",
            "-2.2097154830389165\n",
            "0.8703397706797236\n",
            "-0.3415708842684535\n",
            "-0.6669956926506089\n",
            "-1.0482573885427893\n"
          ]
        }
      ]
    },
    {
      "cell_type": "code",
      "source": [
        "for _ in range(10):\n",
        "  print(np.random.randint(10)) #숫자하나를 주면 그값은 뽑힐수 있는 최댓값, 두개를 넣으면 그사이의 임의의 정수 반환"
      ],
      "metadata": {
        "colab": {
          "base_uri": "https://localhost:8080/"
        },
        "id": "XffH_TPPhyu8",
        "outputId": "bfce738e-de50-4bb4-d012-5c4c398b4418"
      },
      "execution_count": 22,
      "outputs": [
        {
          "output_type": "stream",
          "name": "stdout",
          "text": [
            "5\n",
            "1\n",
            "9\n",
            "4\n",
            "6\n",
            "6\n",
            "7\n",
            "7\n",
            "2\n",
            "5\n"
          ]
        }
      ]
    },
    {
      "cell_type": "code",
      "source": [
        "for _ in range(10):\n",
        "  print(np.random.randint(1,6),end=' ')  # end값은 포함되지 않는다."
      ],
      "metadata": {
        "colab": {
          "base_uri": "https://localhost:8080/"
        },
        "id": "gSEICAxoiIVv",
        "outputId": "a0f5949f-cdd4-4e64-9060-e500e4df8129"
      },
      "execution_count": 28,
      "outputs": [
        {
          "output_type": "stream",
          "name": "stdout",
          "text": [
            "5 1 4 3 1 4 4 4 2 4 "
          ]
        }
      ]
    },
    {
      "cell_type": "code",
      "source": [
        "for _ in range(10):\n",
        "  print(np.random.choice([1,3,2,8]),end=' ')"
      ],
      "metadata": {
        "colab": {
          "base_uri": "https://localhost:8080/"
        },
        "id": "I4sl3veYiW9S",
        "outputId": "7b0dc75a-33b0-4428-8fc2-49699041a5e2"
      },
      "execution_count": 29,
      "outputs": [
        {
          "output_type": "stream",
          "name": "stdout",
          "text": [
            "2 2 1 3 3 8 2 2 2 8 "
          ]
        }
      ]
    },
    {
      "cell_type": "code",
      "source": [
        ""
      ],
      "metadata": {
        "id": "38LsAgIvjCq2"
      },
      "execution_count": null,
      "outputs": []
    }
  ]
}